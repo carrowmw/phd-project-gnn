{
 "cells": [
  {
   "cell_type": "code",
   "execution_count": null,
   "metadata": {},
   "outputs": [],
   "source": [
    "import matplotlib.pyplot as plt\n",
    "import pandas as pd\n",
    "import geopandas as gpd\n",
    "from private_uoapi import LightsailWrapper, LSAuth, LSConfig"
   ]
  },
  {
   "cell_type": "code",
   "execution_count": null,
   "metadata": {},
   "outputs": [],
   "source": [
    "config = LSConfig()\n",
    "auth = LSAuth(config)\n",
    "client = LightsailWrapper(config, auth)\n",
    "locations = client.get_traffic_sensors()"
   ]
  },
  {
   "cell_type": "code",
   "execution_count": null,
   "metadata": {},
   "outputs": [],
   "source": [
    "locations = pd.DataFrame(locations)\n",
    "lat = locations[\"lat\"]\n",
    "lon = locations[\"lon\"]\n",
    "name = locations[\"location\"]\n",
    "sensors_gdf = gpd.GeoDataFrame(\n",
    "    locations, geometry=gpd.points_from_xy(lon, lat), crs=\"EPSG:4326\"\n",
    ")\n",
    "# convert crs to 27700\n",
    "sensors_gdf = sensors_gdf.to_crs(\"EPSG:27700\")\n",
    "\n",
    "# save the private_sensors_gdf\n",
    "sensors_gdf.to_file(\n",
    "    \"/Users/administrator/Code/python/phd-project-gnn/dashboards/data/sensors.geojson\",\n",
    "    driver=\"GeoJSON\",\n",
    ")"
   ]
  },
  {
   "cell_type": "code",
   "execution_count": null,
   "metadata": {},
   "outputs": [],
   "source": [
    "len(locations)"
   ]
  },
  {
   "cell_type": "code",
   "execution_count": null,
   "metadata": {},
   "outputs": [],
   "source": []
  }
 ],
 "metadata": {
  "kernelspec": {
   "display_name": ".venv",
   "language": "python",
   "name": "python3"
  },
  "language_info": {
   "codemirror_mode": {
    "name": "ipython",
    "version": 3
   },
   "file_extension": ".py",
   "mimetype": "text/x-python",
   "name": "python",
   "nbconvert_exporter": "python",
   "pygments_lexer": "ipython3",
   "version": "3.11.9"
  }
 },
 "nbformat": 4,
 "nbformat_minor": 2
}
