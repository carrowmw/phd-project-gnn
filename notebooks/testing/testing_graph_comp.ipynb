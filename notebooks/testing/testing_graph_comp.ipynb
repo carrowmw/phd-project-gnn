{
 "cells": [
  {
   "cell_type": "code",
   "execution_count": null,
   "metadata": {},
   "outputs": [],
   "source": [
    "import os\n",
    "import json\n",
    "from pathlib import Path\n",
    "import pickle\n",
    "from gnn_package import paths\n",
    "\n",
    "\n",
    "def read_pickle(data_dir: Path, filename: str):\n",
    "    filename = data_dir / filename\n",
    "    with open(filename, \"rb\") as f:\n",
    "        return pickle.load(f)\n",
    "\n",
    "\n",
    "data_dir = paths.ORDINANCE_SURVEY_DATA_DIR\n",
    "paths_gdf = read_pickle(data_dir, \"mm_paths_cropped.pkl\")\n",
    "highways_gdf = read_pickle(data_dir, \"mm_highways_cropped.pkl\")"
   ]
  },
  {
   "cell_type": "code",
   "execution_count": null,
   "metadata": {},
   "outputs": [],
   "source": [
    "class Node:\n",
    "    def __init__(self, id, x, y):\n",
    "        self.id = id\n",
    "        self.x = x\n",
    "        self.y = y\n",
    "        self.neighbours = []  # list of (neighbour_node, weight) tuples\n",
    "\n",
    "\n",
    "class Graph:\n",
    "    def __init__(self):\n",
    "        self.nodes = {}  # dictionary mapping node_id (values) to node object\n",
    "\n",
    "    def add_node(self, id, x, y):\n",
    "        if id not in self.nodes:\n",
    "            self.nodes[id] = Node(id, x, y)\n",
    "\n",
    "    def add_edge(self, id1, id2, weight=1, directed=False):\n",
    "        if id1 not in self.nodes:\n",
    "            raise ValueError(f\"Node {id1} not in graph\")\n",
    "        if id2 not in self.nodes:\n",
    "            raise ValueError(f\"Node {id2} not in graph\")\n",
    "\n",
    "        self.nodes[id1].neighbours.append((self.nodes[id2], weight))\n",
    "        if not directed:\n",
    "            self.nodes[id2].neighbours.append((self.nodes[id1], weight))"
   ]
  },
  {
   "cell_type": "code",
   "execution_count": null,
   "metadata": {},
   "outputs": [],
   "source": []
  }
 ],
 "metadata": {
  "kernelspec": {
   "display_name": ".venv",
   "language": "python",
   "name": "python3"
  },
  "language_info": {
   "codemirror_mode": {
    "name": "ipython",
    "version": 3
   },
   "file_extension": ".py",
   "mimetype": "text/x-python",
   "name": "python",
   "nbconvert_exporter": "python",
   "pygments_lexer": "ipython3",
   "version": "3.11.9"
  }
 },
 "nbformat": 4,
 "nbformat_minor": 2
}
