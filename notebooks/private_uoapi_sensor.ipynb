{
 "cells": [
  {
   "cell_type": "code",
   "execution_count": null,
   "metadata": {},
   "outputs": [],
   "source": [
    "import matplotlib.pyplot as plt\n",
    "import geopandas as gpd\n",
    "\n",
    "from private_uoapi import APIClient, APIConfig, APIAuth"
   ]
  },
  {
   "cell_type": "code",
   "execution_count": null,
   "metadata": {},
   "outputs": [],
   "source": [
    "config = APIConfig()\n",
    "auth = APIAuth(config)\n",
    "client = APIClient(config, auth)\n",
    "locations = client.get_sensor_locations()"
   ]
  },
  {
   "cell_type": "code",
   "execution_count": null,
   "metadata": {},
   "outputs": [],
   "source": [
    "lat = locations[\"lat\"]\n",
    "lon = locations[\"lon\"]\n",
    "name = locations[\"location\"]\n",
    "private_sensors_gdf = gpd.GeoDataFrame(\n",
    "    locations, geometry=gpd.points_from_xy(lon, lat), crs=\"EPSG:4326\"\n",
    ")\n",
    "# convert crs to 27700\n",
    "private_sensors_gdf = private_sensors_gdf.to_crs(\"EPSG:27700\")\n",
    "\n",
    "# save the private_sensors_gdf\n",
    "private_sensors_gdf.to_file(\n",
    "    \"../gnn_package/data/urban_observatory/private_sensors/private_sensors_gdf.shp\"\n",
    ")"
   ]
  },
  {
   "cell_type": "code",
   "execution_count": null,
   "metadata": {},
   "outputs": [],
   "source": [
    "len(locations)"
   ]
  }
 ],
 "metadata": {
  "kernelspec": {
   "display_name": ".venv",
   "language": "python",
   "name": "python3"
  },
  "language_info": {
   "codemirror_mode": {
    "name": "ipython",
    "version": 3
   },
   "file_extension": ".py",
   "mimetype": "text/x-python",
   "name": "python",
   "nbconvert_exporter": "python",
   "pygments_lexer": "ipython3",
   "version": "3.11.9"
  }
 },
 "nbformat": 4,
 "nbformat_minor": 2
}
