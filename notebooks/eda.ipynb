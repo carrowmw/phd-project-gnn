{
 "cells": [
  {
   "cell_type": "code",
   "execution_count": null,
   "metadata": {},
   "outputs": [],
   "source": [
    "import os\n",
    "import json\n",
    "import fiona\n",
    "import networkx as nx\n",
    "import geopandas as gpd\n",
    "import pandas as pd\n",
    "import matplotlib.pyplot as plt\n",
    "from shapely.geometry import Polygon\n",
    "from shapely import wkt\n",
    "from gnn_package import data_utils\n",
    "from gnn_package import preprocessing\n",
    "from private_uoapi import LightsailWrapper, LSAuth, LSConfig\n",
    "\n",
    "import gnn_package.src.preprocessing.graph_utils as ppgu\n",
    "import gnn_package.src.preprocessing.graph_manipulation as ppgm\n",
    "import gnn_package.src.preprocessing.graph_analysis as ppga\n",
    "import gnn_package.src.preprocessing.graph_computation as ppgc\n",
    "import gnn_package.src.preprocessing.graph_visualization as ppgv"
   ]
  },
  {
   "cell_type": "code",
   "execution_count": null,
   "metadata": {},
   "outputs": [],
   "source": [
    "# Example usage\n",
    "place_name = \"Newcastle upon Tyne, UK\"  # Replace with your area of interest\n",
    "\n",
    "# Get the network\n",
    "network_gdf = preprocessing.graph_utils.get_street_network_gdfs(place_name)"
   ]
  },
  {
   "cell_type": "code",
   "execution_count": null,
   "metadata": {},
   "outputs": [],
   "source": [
    "sensor_id_map = ppgu.get_senso_name_id_map()"
   ]
  },
  {
   "cell_type": "code",
   "execution_count": null,
   "metadata": {},
   "outputs": [],
   "source": [
    "sensors_gdf = ppgu.read_or_create_sensor_nodes()"
   ]
  },
  {
   "cell_type": "code",
   "execution_count": null,
   "metadata": {},
   "outputs": [],
   "source": [
    "# Get the bounding box\n",
    "bbox_transformed = ppgu.get_bbox_transformed()"
   ]
  },
  {
   "cell_type": "code",
   "execution_count": null,
   "metadata": {},
   "outputs": [],
   "source": [
    "fig, ax = plt.subplots(figsize=(10, 10))\n",
    "network_gdf.plot(ax=ax, color=\"black\", alpha=0.5)\n",
    "sensors_gdf.plot(ax=ax, color=\"red\", markersize=10)"
   ]
  },
  {
   "cell_type": "code",
   "execution_count": null,
   "metadata": {},
   "outputs": [],
   "source": [
    "# First verify the CRS of both dataframes\n",
    "print(\"Roads CRS:\", network_gdf.crs)\n",
    "print(\"Private sensor nodes CRS:\", sensors_gdf.crs)\n",
    "\n",
    "# Create the plot with a larger figure size\n",
    "fig, ax = plt.subplots(figsize=(12, 12))\n",
    "\n",
    "# Plot highways and paths\n",
    "network_gdf.plot(ax=ax, color=\"grey\", linewidth=0.5)\n",
    "\n",
    "sensors_gdf.plot(\n",
    "    ax=ax,\n",
    "    color=\"red\",\n",
    "    markersize=20,\n",
    "    alpha=0.6,  # Add some transparency\n",
    "    zorder=2,  # Ensure points are plotted on top\n",
    ")\n",
    "\n",
    "# Set the plot bounds based on the highways extent - there are some sensors that are a long way from the roads\n",
    "bounds = network_gdf.total_bounds\n",
    "ax.set_xlim([bounds[0], bounds[2]])\n",
    "ax.set_ylim([bounds[1], bounds[3]])\n",
    "\n",
    "# Add gridlines\n",
    "ax.grid(True)\n",
    "\n",
    "# Add title\n",
    "plt.title(\"OSM - Paths\")\n",
    "\n",
    "# Show the plot\n",
    "plt.tight_layout()\n",
    "plt.show()\n",
    "\n",
    "# Print some diagnostic information\n",
    "print(\"\\nHighways bounds:\", network_gdf.total_bounds)\n",
    "print(\"Private sensor nodes bounds:\", sensors_gdf.total_bounds)"
   ]
  },
  {
   "cell_type": "code",
   "execution_count": null,
   "metadata": {},
   "outputs": [],
   "source": []
  }
 ],
 "metadata": {
  "kernelspec": {
   "display_name": ".venv",
   "language": "python",
   "name": "python3"
  },
  "language_info": {
   "codemirror_mode": {
    "name": "ipython",
    "version": 3
   },
   "file_extension": ".py",
   "mimetype": "text/x-python",
   "name": "python",
   "nbconvert_exporter": "python",
   "pygments_lexer": "ipython3",
   "version": "3.11.9"
  }
 },
 "nbformat": 4,
 "nbformat_minor": 2
}
