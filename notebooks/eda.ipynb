{
 "cells": [
  {
   "cell_type": "code",
   "execution_count": null,
   "metadata": {},
   "outputs": [],
   "source": [
    "import os\n",
    "import json\n",
    "import fiona\n",
    "import networkx as nx\n",
    "import geopandas as gpd\n",
    "import pandas as pd\n",
    "import matplotlib.pyplot as plt\n",
    "from shapely.geometry import Polygon\n",
    "from shapely import wkt\n",
    "from uoapi import api_client\n",
    "from gnn_package import data_utils\n",
    "from gnn_package.src.preprocessing.import_graph import get_street_network_gdfs\n",
    "from private_uoapi import APIClient, APIConfig, APIAuth"
   ]
  },
  {
   "cell_type": "code",
   "execution_count": null,
   "metadata": {},
   "outputs": [],
   "source": [
    "urban_observatory_data_dir = \"../gnn_package/data/urban_observatory/\"\n",
    "private_sensors_file = (\n",
    "    \"../gnn_package/data/urban_observatory/private_sensors/private_sensors_gdf.shp\"\n",
    ")\n",
    "public_sensors_file = (\n",
    "    \"../gnn_package/data/urban_observatory/public_sensors/public_sensors_gdf.shp\"\n",
    ")\n",
    "\n",
    "\n",
    "def check_files_exist(file_path):\n",
    "    return os.path.exists(file_path)\n",
    "\n",
    "\n",
    "def read_or_create_public_sensors_nodes_traffic():\n",
    "    client = api_client.APIClient()\n",
    "    print(\"Getting public sensors from API\")\n",
    "    public_sensors = client.get_sensors(theme=\"Vehicles\")\n",
    "    sensor_geometry = {\n",
    "        sensor[\"Sensor Name\"]: sensor[\"Location (WKT)\"]\n",
    "        for sensor in public_sensors[\"sensors\"]\n",
    "    }\n",
    "    sensor_df = pd.DataFrame(sensor_geometry.items(), columns=[\"location\", \"geometry\"])\n",
    "    sensor_df[\"geometry\"] = sensor_df[\"geometry\"].apply(wkt.loads)\n",
    "    public_sensors_gdf = gpd.GeoDataFrame(\n",
    "        sensor_df, geometry=\"geometry\", crs=\"EPSG:4326\"\n",
    "    )\n",
    "    public_sensors_gdf = public_sensors_gdf.to_crs(\"EPSG:27700\")\n",
    "    return public_sensors_gdf\n",
    "\n",
    "\n",
    "def read_or_create_public_sensors_nodes(public_sensors_file):\n",
    "    if public_sensors_file and check_files_exist(public_sensors_file):\n",
    "        print(\"Reading public sensors from file\")\n",
    "        public_sensors_gdf = gpd.read_file(public_sensors_file)\n",
    "        return public_sensors_gdf\n",
    "    else:\n",
    "        client = api_client.APIClient()\n",
    "        print(\"Getting public sensors from API\")\n",
    "        public_sensors = client.get_sensors(theme=\"People\")\n",
    "        sensor_geometry = {\n",
    "            sensor[\"Sensor Name\"]: sensor[\"Location (WKT)\"]\n",
    "            for sensor in public_sensors[\"sensors\"]\n",
    "        }\n",
    "        sensor_df = pd.DataFrame(\n",
    "            sensor_geometry.items(), columns=[\"location\", \"geometry\"]\n",
    "        )\n",
    "        sensor_df[\"geometry\"] = sensor_df[\"geometry\"].apply(wkt.loads)\n",
    "        public_sensors_gdf = gpd.GeoDataFrame(\n",
    "            sensor_df, geometry=\"geometry\", crs=\"EPSG:4326\"\n",
    "        )\n",
    "        public_sensors_gdf = public_sensors_gdf.to_crs(\"EPSG:27700\")\n",
    "        public_sensors_gdf.to_file(public_sensors_file)\n",
    "        return public_sensors_gdf\n",
    "\n",
    "\n",
    "def read_or_create_private_sensor_nodes(private_sensors_file):\n",
    "    if private_sensors_file and check_files_exist(private_sensors_file):\n",
    "        print(\"Reading private sensors from file\")\n",
    "        private_sensors_gdf = gpd.read_file(private_sensors_file)\n",
    "        return private_sensors_gdf\n",
    "    else:\n",
    "        config = APIConfig()\n",
    "        auth = APIAuth(config)\n",
    "        client = APIClient(config, auth)\n",
    "        locations = client.get_sensor_locations()\n",
    "        private_sensors_gdf = gpd.GeoDataFrame(\n",
    "            locations[\"location\"],\n",
    "            geometry=gpd.points_from_xy(locations[\"lon\"], locations[\"lat\"]),\n",
    "            crs=\"EPSG:4326\",\n",
    "        )\n",
    "        private_sensors_gdf = private_sensors_gdf.to_crs(\"EPSG:27700\")\n",
    "        private_sensors_gdf.to_file(private_sensors_file)\n",
    "        return private_sensors_gdf\n",
    "\n",
    "\n",
    "def get_bbox_transformed():\n",
    "    polygon_bbox = Polygon(\n",
    "        [\n",
    "            [-1.65327, 54.93188],\n",
    "            [-1.54993, 54.93188],\n",
    "            [-1.54993, 55.02084],\n",
    "            [-1.65327, 55.02084],\n",
    "        ]\n",
    "    )\n",
    "\n",
    "    # Create a GeoDataFrame from the bounding box polygon\n",
    "    bbox_gdf = gpd.GeoDataFrame(geometry=[polygon_bbox], crs=\"EPSG:4326\")\n",
    "\n",
    "    # Assuming your road data is in British National Grid (EPSG:27700)\n",
    "    # Transform the bbox to match the road data's CRS\n",
    "    bbox_transformed = bbox_gdf.to_crs(\"EPSG:27700\")\n",
    "    return bbox_transformed"
   ]
  },
  {
   "cell_type": "code",
   "execution_count": null,
   "metadata": {},
   "outputs": [],
   "source": [
    "check_files_exist(private_sensors_file)"
   ]
  },
  {
   "cell_type": "code",
   "execution_count": null,
   "metadata": {},
   "outputs": [],
   "source": [
    "# Example usage\n",
    "place_name = \"Newcastle upon Tyne, UK\"  # Replace with your area of interest\n",
    "\n",
    "# Get the network\n",
    "network_gdf = get_street_network_gdfs(place_name)"
   ]
  },
  {
   "cell_type": "code",
   "execution_count": null,
   "metadata": {},
   "outputs": [],
   "source": [
    "private_sensors_gdf = read_or_create_private_sensor_nodes(private_sensors_file)"
   ]
  },
  {
   "cell_type": "code",
   "execution_count": null,
   "metadata": {},
   "outputs": [],
   "source": [
    "public_sensors_gdf = read_or_create_public_sensors_nodes(public_sensors_file)\n",
    "traffic_sensors_gdf = read_or_create_public_sensors_nodes_traffic()\n",
    "# Get the bounding box\n",
    "bbox_transformed = get_bbox_transformed()\n",
    "public_sensors_gdf = public_sensors_gdf.clip(bbox_transformed)\n",
    "traffic_sensors_gdf = traffic_sensors_gdf.clip(bbox_transformed)"
   ]
  },
  {
   "cell_type": "code",
   "execution_count": null,
   "metadata": {},
   "outputs": [],
   "source": [
    "# get data types of individual observations in the geometry column\n",
    "traffic_sensors_gdf"
   ]
  },
  {
   "cell_type": "code",
   "execution_count": null,
   "metadata": {},
   "outputs": [],
   "source": [
    "traffic_sensors_gdf = traffic_sensors_gdf[\n",
    "    traffic_sensors_gdf.geometry.geom_type == \"Point\"\n",
    "]"
   ]
  },
  {
   "cell_type": "code",
   "execution_count": null,
   "metadata": {},
   "outputs": [],
   "source": [
    "fig, ax = plt.subplots(figsize=(10, 10))\n",
    "network_gdf.plot(ax=ax, color=\"black\", alpha=0.5)\n",
    "private_sensors_gdf.plot(ax=ax, color=\"red\", markersize=10)\n",
    "public_sensors_gdf.plot(ax=ax, color=\"blue\", markersize=10)\n",
    "traffic_sensors_gdf.plot(ax=ax, color=\"green\", markersize=10)"
   ]
  },
  {
   "cell_type": "code",
   "execution_count": null,
   "metadata": {},
   "outputs": [],
   "source": [
    "# First verify the CRS of both dataframes\n",
    "print(\"Roads CRS:\", road_network.crs)\n",
    "print(\"Sensor nodes CRS:\", sensor_nodes_gdf.crs)\n",
    "\n",
    "# Create the plot with a larger figure size\n",
    "fig, ax = plt.subplots(figsize=(12, 12))\n",
    "\n",
    "# Plot highways and paths\n",
    "road_network.plot(ax=ax, color=\"grey\", linewidth=0.5)\n",
    "\n",
    "# Plot sensor points with different styling\n",
    "sensor_nodes_gdf.plot(\n",
    "    ax=ax,\n",
    "    color=\"red\",\n",
    "    markersize=20,\n",
    "    alpha=0.6,  # Add some transparency\n",
    "    zorder=2,  # Ensure points are plotted on top\n",
    ")\n",
    "\n",
    "# Set the plot bounds based on the highways extent - there are some sensors that are a long way from the roads\n",
    "bounds = road_network.total_bounds\n",
    "ax.set_xlim([bounds[0], bounds[2]])\n",
    "ax.set_ylim([bounds[1], bounds[3]])\n",
    "\n",
    "# Add gridlines\n",
    "ax.grid(True)\n",
    "\n",
    "# Add title\n",
    "plt.title(\"OS Open Roads - Road Links\")\n",
    "\n",
    "# Show the plot\n",
    "plt.tight_layout()\n",
    "plt.show()\n",
    "\n",
    "# Print some diagnostic information\n",
    "print(\"\\nHighways bounds:\", road_network.total_bounds)\n",
    "print(\"Sensor nodes bounds:\", sensor_nodes_gdf.total_bounds)"
   ]
  },
  {
   "cell_type": "code",
   "execution_count": null,
   "metadata": {},
   "outputs": [],
   "source": []
  }
 ],
 "metadata": {
  "kernelspec": {
   "display_name": ".venv",
   "language": "python",
   "name": "python3"
  },
  "language_info": {
   "codemirror_mode": {
    "name": "ipython",
    "version": 3
   },
   "file_extension": ".py",
   "mimetype": "text/x-python",
   "name": "python",
   "nbconvert_exporter": "python",
   "pygments_lexer": "ipython3",
   "version": "3.11.9"
  }
 },
 "nbformat": 4,
 "nbformat_minor": 2
}
