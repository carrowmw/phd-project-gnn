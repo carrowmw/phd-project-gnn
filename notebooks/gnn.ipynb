{
 "cells": [
  {
   "cell_type": "code",
   "execution_count": null,
   "metadata": {},
   "outputs": [],
   "source": [
    "import numpy as np\n",
    "import pandas as pd\n",
    "import aiohttp\n",
    "import matplotlib.pyplot as plt\n",
    "import networkx as nx\n",
    "from gnn_package import preprocessing\n",
    "\n",
    "adj_matrix_dense, node_ids, metadata = preprocessing.load_graph_data(\n",
    "    prefix=\"publ_priv_test\", return_df=False\n",
    ")\n",
    "name_id_map = preprocessing.get_sensor_name_id_map()\n",
    "# node_names = [name_id_map[str(node_id)] for node_id in node_ids]\n",
    "# adj_matrix_dense.max()"
   ]
  },
  {
   "cell_type": "code",
   "execution_count": null,
   "metadata": {},
   "outputs": [],
   "source": [
    "adj = preprocessing.compute_adjacency_matrix(adj_matrix_dense)\n",
    "adj[0].max()"
   ]
  },
  {
   "cell_type": "code",
   "execution_count": null,
   "metadata": {},
   "outputs": [],
   "source": [
    "# plt.figure(figsize=(5, 5))\n",
    "# cax = plt.matshow(adj, False)\n",
    "# plt.colorbar(cax)\n",
    "# plt.xlabel(\"Sensor station\")\n",
    "# plt.ylabel(\"Sensor station\")"
   ]
  },
  {
   "cell_type": "code",
   "execution_count": null,
   "metadata": {},
   "outputs": [],
   "source": [
    "def plot_graph(adj):\n",
    "    plt.figure(figsize=(10, 5))\n",
    "    rows, cols = np.where(adj > 0)\n",
    "    edges = zip(rows.tolist(), cols.tolist())\n",
    "    G = nx.Graph()\n",
    "    G.add_edges_from(edges)\n",
    "    nx.draw(G, with_labels=True)\n",
    "    plt.show()"
   ]
  },
  {
   "cell_type": "code",
   "execution_count": null,
   "metadata": {},
   "outputs": [],
   "source": [
    "# In Jupyter notebook cell\n",
    "async def main():\n",
    "    async with preprocessing.SensorDataFetcher() as fetcher:\n",
    "        response = await fetcher._fetch_all_data(node_ids, days_back=365)\n",
    "        return response\n",
    "\n",
    "\n",
    "response = await main()  # Directly await instead of asyncio.run()"
   ]
  },
  {
   "cell_type": "code",
   "execution_count": null,
   "metadata": {},
   "outputs": [],
   "source": [
    "results = response[0]"
   ]
  },
  {
   "cell_type": "code",
   "execution_count": null,
   "metadata": {},
   "outputs": [],
   "source": [
    "stats = response[1]"
   ]
  },
  {
   "cell_type": "code",
   "execution_count": null,
   "metadata": {},
   "outputs": [],
   "source": [
    "stats"
   ]
  },
  {
   "cell_type": "code",
   "execution_count": null,
   "metadata": {},
   "outputs": [],
   "source": [
    "results_containing_data = {\n",
    "    node_id: data for node_id, data in results.items() if data is not None\n",
    "}"
   ]
  },
  {
   "cell_type": "code",
   "execution_count": null,
   "metadata": {},
   "outputs": [],
   "source": [
    "len(results_containing_data)"
   ]
  },
  {
   "cell_type": "code",
   "execution_count": null,
   "metadata": {},
   "outputs": [],
   "source": [
    "processor = preprocessing.TimeSeriesPreprocessor(12, 1, pd.Timedelta(minutes=15), -1)"
   ]
  },
  {
   "cell_type": "code",
   "execution_count": null,
   "metadata": {},
   "outputs": [],
   "source": [
    "windows = processor.create_windows(results_containing_data)"
   ]
  },
  {
   "cell_type": "code",
   "execution_count": null,
   "metadata": {},
   "outputs": [],
   "source": [
    "windows"
   ]
  },
  {
   "cell_type": "code",
   "execution_count": null,
   "metadata": {},
   "outputs": [],
   "source": []
  }
 ],
 "metadata": {
  "kernelspec": {
   "display_name": ".venv",
   "language": "python",
   "name": "python3"
  },
  "language_info": {
   "codemirror_mode": {
    "name": "ipython",
    "version": 3
   },
   "file_extension": ".py",
   "mimetype": "text/x-python",
   "name": "python",
   "nbconvert_exporter": "python",
   "pygments_lexer": "ipython3",
   "version": "3.11.9"
  }
 },
 "nbformat": 4,
 "nbformat_minor": 2
}
