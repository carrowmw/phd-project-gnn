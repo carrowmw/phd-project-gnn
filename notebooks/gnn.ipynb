{
 "cells": [
  {
   "cell_type": "code",
   "execution_count": null,
   "metadata": {},
   "outputs": [],
   "source": [
    "from datetime import datetime, timedelta\n",
    "import numpy as np\n",
    "import pandas as pd\n",
    "import aiohttp\n",
    "import matplotlib.pyplot as plt\n",
    "import networkx as nx\n",
    "from gnn_package import preprocessing\n",
    "\n",
    "adj_matrix_dense, node_ids, metadata = preprocessing.load_graph_data(\n",
    "    prefix=\"25022025_test\", return_df=False\n",
    ")\n",
    "name_id_map = preprocessing.get_sensor_name_id_map()\n",
    "# node_names = [name_id_map[str(node_id)] for node_id in node_ids]\n",
    "adj_matrix_dense.max()"
   ]
  },
  {
   "cell_type": "code",
   "execution_count": null,
   "metadata": {},
   "outputs": [],
   "source": [
    "adj = preprocessing.compute_adjacency_matrix(adj_matrix_dense)\n",
    "adj[0].max()"
   ]
  },
  {
   "cell_type": "code",
   "execution_count": null,
   "metadata": {},
   "outputs": [],
   "source": [
    "from private_uoapi import (\n",
    "    LightsailWrapper,\n",
    "    LSAuth,\n",
    "    LSConfig,\n",
    "    DateRangeParams,\n",
    "    convert_to_dataframe,\n",
    ")\n",
    "\n",
    "config = LSConfig()\n",
    "auth = LSAuth(config)\n",
    "client = LightsailWrapper(config, auth)\n",
    "\n",
    "print(f\"Using base URL: {config.base_url}\")\n",
    "print(f\"Using username: {config.username}\")\n",
    "print(f\"Using secret key: {'*' * len(config.secret_key)}\")  # Mask the secret key"
   ]
  },
  {
   "cell_type": "code",
   "execution_count": null,
   "metadata": {},
   "outputs": [],
   "source": [
    "sensor_locations = client.get_traffic_sensors()\n",
    "sensor_locations = pd.DataFrame(sensor_locations)\n",
    "display(sensor_locations.head())\n",
    "\n",
    "date_range_params = DateRangeParams(\n",
    "    start_date=datetime(2024, 2, 18, 0, 0, 0),\n",
    "    end_date=datetime(2024, 2, 18, 7, 59, 59),  # Just under 8 hours so we get 1 record\n",
    "    max_date_range=timedelta(days=10),\n",
    ")\n",
    "\n",
    "count_data = await client.get_traffic_data(date_range_params)"
   ]
  },
  {
   "cell_type": "code",
   "execution_count": null,
   "metadata": {},
   "outputs": [],
   "source": [
    "counts_df = convert_to_dataframe(count_data)"
   ]
  },
  {
   "cell_type": "code",
   "execution_count": null,
   "metadata": {},
   "outputs": [],
   "source": [
    "len(counts_df)"
   ]
  },
  {
   "cell_type": "code",
   "execution_count": null,
   "metadata": {},
   "outputs": [],
   "source": [
    "counts_dict = {}\n",
    "for location in sensor_locations[\"location\"]:\n",
    "    df = counts_df[counts_df[\"location\"] == location]\n",
    "    series = pd.Series(df[\"value\"].values, index=df[\"dt\"])\n",
    "    location_id = name_id_map[location]\n",
    "    counts_dict[location_id] = series if not df.empty else None\n",
    "\n",
    "len([series for series in counts_dict.values() if series is not None])"
   ]
  },
  {
   "cell_type": "code",
   "execution_count": null,
   "metadata": {},
   "outputs": [],
   "source": [
    "def plot_graph(adj):\n",
    "    plt.figure(figsize=(10, 5))\n",
    "    rows, cols = np.where(adj > 0)\n",
    "    edges = zip(rows.tolist(), cols.tolist())\n",
    "    G = nx.Graph()\n",
    "    G.add_edges_from(edges)\n",
    "    nx.draw(G, with_labels=True)\n",
    "    plt.show()"
   ]
  },
  {
   "cell_type": "code",
   "execution_count": null,
   "metadata": {},
   "outputs": [],
   "source": [
    "results_containing_data = {\n",
    "    node_id: data for node_id, data in counts_dict.items() if data is not None\n",
    "}"
   ]
  },
  {
   "cell_type": "code",
   "execution_count": null,
   "metadata": {},
   "outputs": [],
   "source": [
    "len(results_containing_data)"
   ]
  },
  {
   "cell_type": "code",
   "execution_count": null,
   "metadata": {},
   "outputs": [],
   "source": [
    "counts_dict[\"10000\"]"
   ]
  },
  {
   "cell_type": "code",
   "execution_count": null,
   "metadata": {},
   "outputs": [],
   "source": [
    "counts_dict[\"10000\"].dtypes"
   ]
  },
  {
   "cell_type": "code",
   "execution_count": null,
   "metadata": {},
   "outputs": [],
   "source": [
    "processor = preprocessing.TimeSeriesPreprocessor(12, 1, pd.Timedelta(minutes=15), -1)"
   ]
  },
  {
   "cell_type": "code",
   "execution_count": null,
   "metadata": {},
   "outputs": [],
   "source": [
    "windows = processor.create_windows(results_containing_data)"
   ]
  },
  {
   "cell_type": "code",
   "execution_count": null,
   "metadata": {},
   "outputs": [],
   "source": [
    "print(f\"Windows type: {type(windows)}\")\n",
    "print(f\"Windows length: {len(windows)}\")\n",
    "print(f\"Windows tuple element type: {type(windows[0])}\")\n",
    "print(f\"Windows tuple length: {len(windows[0])}\")\n",
    "print(f\"Shape of sensor data for sample window: {windows[0]['10005'].shape}\")\n",
    "print(f\"Shape of missing data mask for sample window: {windows[1]['10005'].shape}\")\n",
    "print(f\"Length of metadata for sample window: {len(windows[2]['10005'])}\")"
   ]
  },
  {
   "cell_type": "code",
   "execution_count": null,
   "metadata": {},
   "outputs": [],
   "source": [
    "len(results_containing_data)"
   ]
  },
  {
   "cell_type": "code",
   "execution_count": null,
   "metadata": {},
   "outputs": [],
   "source": [
    "len(windows[0])"
   ]
  },
  {
   "cell_type": "code",
   "execution_count": null,
   "metadata": {},
   "outputs": [],
   "source": [
    "windows[0].keys()"
   ]
  },
  {
   "cell_type": "code",
   "execution_count": null,
   "metadata": {},
   "outputs": [],
   "source": [
    "for sensor_name in windows[0].keys():\n",
    "    print(f\"{sensor_name}: {windows[0][sensor_name].shape})\")"
   ]
  },
  {
   "cell_type": "code",
   "execution_count": null,
   "metadata": {},
   "outputs": [],
   "source": []
  }
 ],
 "metadata": {
  "kernelspec": {
   "display_name": ".venv",
   "language": "python",
   "name": "python3"
  },
  "language_info": {
   "codemirror_mode": {
    "name": "ipython",
    "version": 3
   },
   "file_extension": ".py",
   "mimetype": "text/x-python",
   "name": "python",
   "nbconvert_exporter": "python",
   "pygments_lexer": "ipython3",
   "version": "3.11.9"
  }
 },
 "nbformat": 4,
 "nbformat_minor": 2
}
