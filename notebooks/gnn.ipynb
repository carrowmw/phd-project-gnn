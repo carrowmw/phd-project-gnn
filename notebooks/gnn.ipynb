{
 "cells": [
  {
   "cell_type": "code",
   "execution_count": null,
   "metadata": {},
   "outputs": [],
   "source": [
    "import json\n",
    "import numpy as np\n",
    "import pandas as pd\n",
    "import matplotlib.pyplot as plt\n",
    "import networkx as nx\n",
    "\n",
    "adj_matrix = np.load(\"../gnn_package/data/preprocessed/test/small_adj_matrix.npy\")\n",
    "node_ids = np.load(\"../gnn_package/data/preprocessed/test/small_node_ids.npy\")\n",
    "names_dict = json.load(open(\"../gnn_package/data/urban_observatory/sensor_names.json\"))\n",
    "node_names = [names_dict[str(node_id)] for node_id in node_ids]\n",
    "adj_matrix.max()"
   ]
  },
  {
   "cell_type": "code",
   "execution_count": null,
   "metadata": {},
   "outputs": [],
   "source": [
    "def compute_adjacency_matrix(\n",
    "    adj_matrix: np.ndarray, sigma_squared=0.1, epsilon=0.95\n",
    ") -> np.ndarray:\n",
    "    \"\"\"\n",
    "    Computes a weighted adjacency matrix from a distance matrix using a Gaussian kernel function.\n",
    "    The function first normalizes distances, then applies a Gaussian decay and thresholds weak connections.\n",
    "\n",
    "    Parameters:\n",
    "    -----------\n",
    "    adj_matrix : np.ndarray\n",
    "        Input matrix of distances between nodes\n",
    "    sigma_squared : float, default=0.1\n",
    "        Variance parameter that controls the rate of weight decay with distance.\n",
    "        Smaller values cause weights to decay more quickly, while larger values\n",
    "        preserve stronger long-range connections.\n",
    "    epsilon : float, default=0.95\n",
    "        Threshold for keeping connections. Any connection with weight below epsilon\n",
    "        is removed (set to 0). For small geographical areas, a lower value like 0.5\n",
    "        may be more appropriate to ensure connectivity.\n",
    "\n",
    "    Returns:\n",
    "    --------\n",
    "    np.ndarray\n",
    "        Weighted adjacency matrix where weights are computed using a Gaussian kernel\n",
    "        function (e^(-d²/σ²)) and thresholded by epsilon. Self-connections (diagonal\n",
    "        elements) are set to 0.\n",
    "\n",
    "    Notes:\n",
    "    ------\n",
    "    - Distances are normalized by dividing by 10000 before computation\n",
    "    - The Gaussian kernel means weights decay exponentially with squared distance\n",
    "    - Higher epsilon values lead to sparser graphs as more weak connections are removed\n",
    "    \"\"\"\n",
    "    # sigma_squared is the variance of the Gaussian kernel which controls how quickly the connection strength decays with distance\n",
    "    # smaller sigma squared means weights decay more quickly with distance\n",
    "    # epsilon is the threshold for the weights\n",
    "    # a high value e.g. 0.95 means that only very strong connections are kept\n",
    "    # for small areas epsilon=0.5 will likely be fully connected\n",
    "    a = adj_matrix / 10000  # Normalize distances\n",
    "    a_squared = a * a  # Square distances\n",
    "    n = a.shape[0]\n",
    "    w_mask = np.ones([n, n]) - np.identity(n)  # Mask of ones except for the diagonal\n",
    "    w = (\n",
    "        np.exp(-a_squared / sigma_squared)\n",
    "        * (np.exp(-a_squared / sigma_squared) >= epsilon)\n",
    "        * w_mask\n",
    "    )  # Test whether the weights are greater than epsilon, apply the mask, and multiply again to return real values of weights\n",
    "    return w"
   ]
  },
  {
   "cell_type": "code",
   "execution_count": null,
   "metadata": {},
   "outputs": [],
   "source": [
    "adj = compute_adjacency_matrix(adj_matrix)\n",
    "adj[0].max()"
   ]
  },
  {
   "cell_type": "code",
   "execution_count": null,
   "metadata": {},
   "outputs": [],
   "source": [
    "plt.figure(figsize=(8, 8))\n",
    "cax = plt.matshow(adj, False)\n",
    "plt.colorbar(cax)\n",
    "plt.xlabel(\"Sensor station\")\n",
    "plt.ylabel(\"Sensor station\")"
   ]
  },
  {
   "cell_type": "code",
   "execution_count": null,
   "metadata": {},
   "outputs": [],
   "source": [
    "def plot_graph(adj):\n",
    "    plt.figure(figsize=(10, 5))\n",
    "    rows, cols = np.where(adj > 0)\n",
    "    edges = zip(rows.tolist(), cols.tolist())\n",
    "    G = nx.Graph()\n",
    "    G.add_edges_from(edges)\n",
    "    nx.draw(G, with_labels=True)\n",
    "    plt.show()\n",
    "\n",
    "\n",
    "plot_graph(adj)"
   ]
  },
  {
   "cell_type": "code",
   "execution_count": null,
   "metadata": {},
   "outputs": [],
   "source": [
    "node_names"
   ]
  },
  {
   "cell_type": "code",
   "execution_count": null,
   "metadata": {},
   "outputs": [],
   "source": [
    "from uoapi import APIClient\n",
    "\n",
    "client = APIClient()\n",
    "\n",
    "# node_names = node_names[:2]\n",
    "\n",
    "combined_df = pd.DataFrame()\n",
    "for name in node_names:\n",
    "    response = client.get_individual_raw_sensor_data(name, last_n_days=365)\n",
    "    data = response[\"sensors\"][0][\"data\"]\n",
    "    if len(data) == 0:\n",
    "        continue\n",
    "    print(f\"Adding data for {name}\")\n",
    "    print(f\"Data length: {len(data)}\")\n",
    "    print(f\"Data keys: {data.keys()}\")\n",
    "    print(f\"Data: {data['Walking']}\")\n",
    "    df = pd.DataFrame(data[\"Walking\"])\n",
    "    combined_df = pd.concat([combined_df, df], axis=1)"
   ]
  },
  {
   "cell_type": "code",
   "execution_count": null,
   "metadata": {},
   "outputs": [],
   "source": [
    "combined_df"
   ]
  },
  {
   "cell_type": "code",
   "execution_count": null,
   "metadata": {},
   "outputs": [],
   "source": []
  }
 ],
 "metadata": {
  "kernelspec": {
   "display_name": ".venv",
   "language": "python",
   "name": "python3"
  },
  "language_info": {
   "codemirror_mode": {
    "name": "ipython",
    "version": 3
   },
   "file_extension": ".py",
   "mimetype": "text/x-python",
   "name": "python",
   "nbconvert_exporter": "python",
   "pygments_lexer": "ipython3",
   "version": "3.11.9"
  }
 },
 "nbformat": 4,
 "nbformat_minor": 2
}
