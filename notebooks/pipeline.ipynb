{
 "cells": [
  {
   "cell_type": "code",
   "execution_count": null,
   "metadata": {},
   "outputs": [],
   "source": [
    "import os\n",
    "import pickle\n",
    "from datetime import datetime, timedelta\n",
    "import pandas as pd\n",
    "from gnn_package import training, preprocessing\n",
    "from private_uoapi import (\n",
    "    LightsailWrapper,\n",
    "    LSAuth,\n",
    "    LSConfig,\n",
    "    DateRangeParams,\n",
    "    convert_to_dataframe,\n",
    ")"
   ]
  },
  {
   "cell_type": "code",
   "execution_count": null,
   "metadata": {},
   "outputs": [],
   "source": [
    "adj_matrix_dense, node_ids, metadata = preprocessing.load_graph_data(\n",
    "    prefix=\"25022025_test\", return_df=False\n",
    ")\n",
    "name_id_map = preprocessing.get_sensor_name_id_map()\n",
    "# node_names = [name_id_map[str(node_id)] for node_id in node_ids]\n",
    "adj_matrix_dense.max()\n",
    "\n",
    "# get sensor data\n",
    "if os.path.exists(\"test_data_1yr.pkl\"):\n",
    "    with open(\"test_data_1yr.pkl\", \"rb\") as f:\n",
    "        results_containing_data = pickle.load(f)\n",
    "else:\n",
    "    config = LSConfig()\n",
    "    auth = LSAuth(config)\n",
    "    client = LightsailWrapper(config, auth)\n",
    "\n",
    "    print(f\"Using base URL: {config.base_url}\")\n",
    "    print(f\"Using username: {config.username}\")\n",
    "    print(f\"Using secret key: {'*' * len(config.secret_key)}\")  # Mask the secret key\n",
    "\n",
    "    sensor_locations = client.get_traffic_sensors()\n",
    "    sensor_locations = pd.DataFrame(sensor_locations)\n",
    "    display(sensor_locations.head())\n",
    "\n",
    "    date_range_params = DateRangeParams(\n",
    "        start_date=datetime(2024, 2, 18, 0, 0, 0),\n",
    "        end_date=datetime(\n",
    "            2024, 2, 18, 0, 0, 0\n",
    "        )\n",
    "        max_date_range=timedelta(days=365),\n",
    "    )\n",
    "\n",
    "    count_data = await client.get_traffic_data(date_range_params)\n",
    "\n",
    "    counts_df = convert_to_dataframe(count_data)\n",
    "\n",
    "    counts_dict = {}\n",
    "    for location in sensor_locations[\"location\"]:\n",
    "        df = counts_df[counts_df[\"location\"] == location]\n",
    "        series = pd.Series(df[\"value\"].values, index=df[\"dt\"])\n",
    "        location_id = name_id_map[location]\n",
    "        counts_dict[location_id] = series if not df.empty else None\n",
    "\n",
    "    len([series for series in counts_dict.values() if series is not None])\n",
    "\n",
    "    results_containing_data = {\n",
    "        node_id: data for node_id, data in counts_dict.items() if data is not None\n",
    "    }\n",
    "\n"
   ]
  },
  {
   "cell_type": "code",
   "execution_count": null,
   "metadata": {},
   "outputs": [],
   "source": [
    "with open(\"test_data_1yr.pkl\", \"wb\") as f:\n",
    "    pickle.dump(results_containing_data, f)"
   ]
  },
  {
   "cell_type": "code",
   "execution_count": null,
   "metadata": {},
   "outputs": [],
   "source": [
    "# Load and preprocess data\n",
    "data = training.preprocess_data(\n",
    "    results_containing_data,\n",
    "    graph_prefix=\"25022025_test\",\n",
    "    window_size=24,  # 24 time steps as input\n",
    "    horizon=6,  # Predict 6 steps ahead (1.5 hours with 15-min data)\n",
    "    batch_size=32,\n",
    ")\n",
    "\n",
    "# Train the model\n",
    "results = training.train_model(\n",
    "    data_loaders=data,\n",
    "    input_dim=1,  # Traffic count is a single value\n",
    "    hidden_dim=64,  # Size of hidden layers\n",
    "    num_epochs=50,\n",
    "    patience=10,  # Early stopping after 10 epochs with no improvement\n",
    ")\n",
    "\n",
    "# Save the trained model\n",
    "from torch import save\n",
    "\n",
    "save(results[\"model\"].state_dict(), \"stgnn_model.pth\")"
   ]
  },
  {
   "cell_type": "code",
   "execution_count": null,
   "metadata": {},
   "outputs": [],
   "source": []
  }
 ],
 "metadata": {
  "kernelspec": {
   "display_name": ".venv",
   "language": "python",
   "name": "python3"
  },
  "language_info": {
   "codemirror_mode": {
    "name": "ipython",
    "version": 3
   },
   "file_extension": ".py",
   "mimetype": "text/x-python",
   "name": "python",
   "nbconvert_exporter": "python",
   "pygments_lexer": "ipython3",
   "version": "3.11.9"
  }
 },
 "nbformat": 4,
 "nbformat_minor": 2
}
