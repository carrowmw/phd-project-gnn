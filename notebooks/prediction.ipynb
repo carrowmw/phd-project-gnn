{
 "cells": [
  {
   "cell_type": "code",
   "execution_count": null,
   "id": "0",
   "metadata": {},
   "outputs": [],
   "source": [
    "from gnn_package import training"
   ]
  },
  {
   "cell_type": "code",
   "execution_count": null,
   "id": "1",
   "metadata": {},
   "outputs": [],
   "source": [
    "predictions = await training.predict_all_sensors_with_validation(\n",
    "    model_path=\"stgnn_model_test_data_1yr.pth\",\n",
    "    graph_prefix=\"25022025_test\",\n",
    "    output_file=\"predictions.csv\",\n",
    "    plot=True,\n",
    ")\n",
    "\n",
    "# Print summary\n",
    "if predictions:\n",
    "    df = predictions[\"dataframe\"]\n",
    "    print(f\"Generated {len(df)} predictions for {df['node_id'].nunique()} sensors\")\n",
    "\n",
    "    # Show prediction ranges\n",
    "    print(\"\\nPrediction summary stats:\")\n",
    "    print(df.groupby(\"horizon\")[\"prediction\"].describe())"
   ]
  },
  {
   "cell_type": "code",
   "execution_count": null,
   "id": "2",
   "metadata": {},
   "outputs": [],
   "source": [
    "predictions.keys()"
   ]
  },
  {
   "cell_type": "code",
   "execution_count": null,
   "id": "3",
   "metadata": {},
   "outputs": [],
   "source": [
    "predictions[\"dataframe\"]"
   ]
  }
 ],
 "metadata": {
  "kernelspec": {
   "display_name": ".venv",
   "language": "python",
   "name": "python3"
  },
  "language_info": {
   "codemirror_mode": {
    "name": "ipython",
    "version": 3
   },
   "file_extension": ".py",
   "mimetype": "text/x-python",
   "name": "python",
   "nbconvert_exporter": "python",
   "pygments_lexer": "ipython3",
   "version": "3.11.9"
  }
 },
 "nbformat": 4,
 "nbformat_minor": 5
}
