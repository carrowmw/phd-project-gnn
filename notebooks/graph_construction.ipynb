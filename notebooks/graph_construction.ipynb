{
 "cells": [
  {
   "cell_type": "code",
   "execution_count": null,
   "metadata": {},
   "outputs": [],
   "source": [
    "import json\n",
    "import networkx as nx\n",
    "import osmnx as ox\n",
    "import geopandas as gpd\n",
    "import matplotlib.pyplot as plt\n",
    "from shapely.ops import nearest_points\n",
    "from shapely.geometry import Point, LineString, MultiLineString, Polygon, box\n",
    "import numpy as np\n",
    "from itertools import combinations\n",
    "from pyproj import CRS\n",
    "\n",
    "from gnn_package import data_utils\n",
    "from gnn_package.src.preprocessing.graph_manipulation import (\n",
    "    connect_components,\n",
    "    snap_points_to_network,\n",
    "    explode_multilinestrings,\n",
    ")\n",
    "from gnn_package.src.preprocessing.graph_analysis import (\n",
    "    analyze_graph_components,\n",
    "    analyze_network_graph,\n",
    "    validate_snapped_points,\n",
    ")\n",
    "from gnn_package.src.preprocessing.import_graph import get_street_network_gdfs\n",
    "\n",
    "from gnn_package.src.preprocessing.graph_computation import (\n",
    "    compute_shortest_paths,\n",
    "    create_weighted_graph_from_paths,\n",
    ")\n",
    "\n",
    "from gnn_package.src.preprocessing.graph_visualization import (\n",
    "    visualize_sensor_graph,\n",
    "    visualize_network_components,\n",
    ")"
   ]
  },
  {
   "cell_type": "code",
   "execution_count": null,
   "metadata": {},
   "outputs": [],
   "source": [
    "# os_processed_data_dir = \"../gnn_package/data/ordinance_survey/processed/\"\n",
    "urban_observatory_dir = \"../gnn_package/data/urban_observatory/\"\n",
    "\n",
    "sensor_nodes_gdf = data_utils.read_pickled_gdf(\n",
    "    urban_observatory_dir, \"sensor_nodes.pkl\"\n",
    ")\n",
    "\n",
    "sensor_names = json.load(open(urban_observatory_dir + \"sensor_names.json\"))\n",
    "\n",
    "# trim both gdfs for testing\n",
    "polygon_bbox = Polygon(\n",
    "    [\n",
    "        [-1.61327, 54.96188],\n",
    "        [-1.59993, 54.96188],\n",
    "        [-1.59993, 54.98084],\n",
    "        [-1.61327, 54.98084],\n",
    "    ]\n",
    ")\n",
    "\n",
    "# Create a GeoDataFrame from the bounding box polygon\n",
    "bbox_gdf = gpd.GeoDataFrame(geometry=[polygon_bbox], crs=\"EPSG:4326\")\n",
    "bbox_gdf = bbox_gdf.to_crs(\"EPSG:27700\")\n",
    "\n",
    "sensor_nodes_gdf = gpd.clip(sensor_nodes_gdf, bbox_gdf)\n",
    "# road_network_gdf = gpd.clip(road_network_gdf, bbox_gdf)"
   ]
  },
  {
   "cell_type": "code",
   "execution_count": null,
   "metadata": {},
   "outputs": [],
   "source": [
    "def visualize_network(G, filepath=None):\n",
    "    \"\"\"\n",
    "    Visualize the pedestrian network.\n",
    "    \"\"\"\n",
    "    # Plot the graph\n",
    "    fig, ax = ox.plot_graph(\n",
    "        G,\n",
    "        node_size=5,\n",
    "        node_color=\"black\",\n",
    "        edge_color=\"#777777\",\n",
    "        edge_linewidth=1,\n",
    "        edge_alpha=0.7,\n",
    "        bgcolor=\"white\",\n",
    "        show=False,\n",
    "        close=False,\n",
    "    )\n",
    "\n",
    "    if filepath:\n",
    "        plt.savefig(filepath, dpi=300, bbox_inches=\"tight\")\n",
    "    plt.show()"
   ]
  },
  {
   "cell_type": "code",
   "execution_count": null,
   "metadata": {},
   "outputs": [],
   "source": [
    "# Example usage\n",
    "place_name = \"Newcastle upon Tyne, UK\"  # Replace with your area of interest\n",
    "\n",
    "# Get the network\n",
    "network_gdf = get_street_network_gdfs(place_name)\n",
    "clipped_network_gdf = gpd.clip(network_gdf, bbox_gdf)"
   ]
  },
  {
   "cell_type": "code",
   "execution_count": null,
   "metadata": {},
   "outputs": [],
   "source": [
    "# visualize_network_components(clipped_network_gdf)"
   ]
  },
  {
   "cell_type": "code",
   "execution_count": null,
   "metadata": {},
   "outputs": [],
   "source": [
    "snapped_sensor_nodes_gdf = snap_points_to_network(sensor_nodes_gdf, clipped_network_gdf)"
   ]
  },
  {
   "cell_type": "code",
   "execution_count": null,
   "metadata": {},
   "outputs": [],
   "source": [
    "clipped_network_gdf = explode_multilinestrings(clipped_network_gdf)\n",
    "\n",
    "connected_network_gdf = connect_components(clipped_network_gdf)"
   ]
  },
  {
   "cell_type": "code",
   "execution_count": null,
   "metadata": {},
   "outputs": [],
   "source": [
    "clipped_network_gdf"
   ]
  },
  {
   "cell_type": "code",
   "execution_count": null,
   "metadata": {},
   "outputs": [],
   "source": [
    "# Plot the gdfs\n",
    "fig, ax = plt.subplots(figsize=(10, 10))\n",
    "connected_network_gdf.plot(ax=ax, color=\"black\", alpha=0.5)\n",
    "snapped_sensor_nodes_gdf.plot(ax=ax, color=\"red\", alpha=0.5)"
   ]
  },
  {
   "cell_type": "code",
   "execution_count": null,
   "metadata": {},
   "outputs": [],
   "source": [
    "validate_snapped_points(snapped_sensor_nodes_gdf, connected_network_gdf)"
   ]
  },
  {
   "cell_type": "code",
   "execution_count": null,
   "metadata": {},
   "outputs": [],
   "source": [
    "# compute shortest paths\n",
    "shortest_paths_gdf = compute_shortest_paths(\n",
    "    connected_network_gdf, snapped_sensor_nodes_gdf\n",
    ")"
   ]
  },
  {
   "cell_type": "code",
   "execution_count": null,
   "metadata": {},
   "outputs": [],
   "source": [
    "# Plot the gdfs\n",
    "fig, ax = plt.subplots(figsize=(10, 10))\n",
    "connected_network_gdf.plot(ax=ax, color=\"black\", alpha=0.5)\n",
    "snapped_sensor_nodes_gdf.plot(ax=ax, color=\"red\", alpha=0.5)\n",
    "shortest_paths_gdf.plot(ax=ax, color=\"orange\", alpha=0.5)"
   ]
  },
  {
   "cell_type": "code",
   "execution_count": null,
   "metadata": {},
   "outputs": [],
   "source": [
    "G = create_weighted_graph_from_paths(shortest_paths_gdf)"
   ]
  },
  {
   "cell_type": "code",
   "execution_count": null,
   "metadata": {},
   "outputs": [],
   "source": [
    "visualize_sensor_graph(G, snapped_sensor_nodes_gdf)"
   ]
  },
  {
   "cell_type": "code",
   "execution_count": null,
   "metadata": {},
   "outputs": [],
   "source": [
    "import numpy as np\n",
    "import pandas as pd\n",
    "import plotly.graph_objects as go\n",
    "\n",
    "# Get a sorted list of node IDs to ensure consistent ordering\n",
    "node_ids = sorted(list(G.nodes()))\n",
    "\n",
    "# Create the adjacency matrix using NetworkX's built-in function\n",
    "adj_matrix = nx.adjacency_matrix(G, nodelist=node_ids, weight=\"weight\")\n",
    "\n",
    "# Convert to dense numpy array for easier viewing\n",
    "adj_matrix_dense = adj_matrix.todense()\n",
    "\n",
    "# Create a DataFrame for better visualization\n",
    "adj_df = pd.DataFrame(adj_matrix_dense, index=node_ids, columns=node_ids)\n",
    "\n",
    "print(\"Shape of adjacency matrix:\", adj_matrix_dense.shape)\n",
    "print(\"\\nFirst few rows and columns of adjacency matrix:\")\n",
    "print(adj_df.iloc[:5, :5])\n",
    "\n",
    "# Basic statistics\n",
    "non_zero_weights = adj_matrix_dense[adj_matrix_dense > 0]\n",
    "print(\"\\nDistance statistics:\")\n",
    "print(f\"Minimum distance: {np.min(non_zero_weights):.2f} meters\")\n",
    "print(f\"Maximum distance: {np.max(non_zero_weights):.2f} meters\")\n",
    "print(f\"Average distance: {np.mean(non_zero_weights):.2f} meters\")"
   ]
  },
  {
   "cell_type": "code",
   "execution_count": null,
   "metadata": {},
   "outputs": [],
   "source": [
    "# Create the heatmap figure\n",
    "fig = go.Figure(\n",
    "    data=go.Heatmap(\n",
    "        z=adj_matrix_dense,\n",
    "        x=node_ids,\n",
    "        y=node_ids,\n",
    "        colorscale=\"YlOrRd\",\n",
    "        colorbar=dict(title=\"Distance (meters)\", thickness=15, x=1.1),\n",
    "        hoverongaps=False,\n",
    "        hovertemplate=\"From Node: %{y}<br>\"\n",
    "        + \"To Node: %{x}<br>\"\n",
    "        + \"Distance: %{z:.2f} meters<br>\"\n",
    "        + \"<extra></extra>\",  # This removes the secondary box in the hover\n",
    "    )\n",
    ")\n",
    "\n",
    "# Update the layout\n",
    "fig.update_layout(\n",
    "    title=\"Sensor Network Adjacency Matrix\",\n",
    "    width=800,\n",
    "    height=600,\n",
    "    xaxis=dict(\n",
    "        title=\"To Node\",\n",
    "        side=\"bottom\",\n",
    "        scaleanchor=\"y\",\n",
    "        scaleratio=1,\n",
    "    ),\n",
    "    yaxis=dict(\n",
    "        title=\"From Node\", autorange=\"reversed\"  # This puts (0,0) at the top-left\n",
    "    ),\n",
    "    margin=dict(l=60, r=100, b=60, t=40, pad=4),\n",
    ")\n",
    "\n",
    "# Show the plot\n",
    "fig.show()\n",
    "\n",
    "# Optionally save as HTML\n",
    "# fig.write_html(\"adjacency_matrix_heatmap.html\")"
   ]
  },
  {
   "cell_type": "code",
   "execution_count": null,
   "metadata": {},
   "outputs": [],
   "source": [
    "np.save(\"../gnn_package/data/preprocessed/test/small_adj_matrix.npy\", adj_matrix_dense)\n",
    "node_ids = np.array(node_ids)\n",
    "np.save(\"../gnn_package/data/preprocessed/test/small_node_ids.npy\", node_ids)"
   ]
  },
  {
   "cell_type": "code",
   "execution_count": null,
   "metadata": {},
   "outputs": [],
   "source": []
  }
 ],
 "metadata": {
  "kernelspec": {
   "display_name": ".venv",
   "language": "python",
   "name": "python3"
  },
  "language_info": {
   "codemirror_mode": {
    "name": "ipython",
    "version": 3
   },
   "file_extension": ".py",
   "mimetype": "text/x-python",
   "name": "python",
   "nbconvert_exporter": "python",
   "pygments_lexer": "ipython3",
   "version": "3.11.9"
  }
 },
 "nbformat": 4,
 "nbformat_minor": 2
}
