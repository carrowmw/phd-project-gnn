{
 "cells": [
  {
   "cell_type": "code",
   "execution_count": null,
   "metadata": {},
   "outputs": [],
   "source": [
    "import json\n",
    "import pandas as pd\n",
    "import geopandas as gpd\n",
    "import matplotlib.pyplot as plt\n",
    "import plotly.graph_objects as go\n",
    "from shapely.geometry import Polygon\n",
    "import numpy as np\n",
    "\n",
    "from gnn_package import preprocessing\n",
    "import gnn_package.src.preprocessing.graph_utils as ppgu\n",
    "import gnn_package.src.preprocessing.graph_manipulation as ppgm\n",
    "import gnn_package.src.preprocessing.graph_analysis as ppga\n",
    "import gnn_package.src.preprocessing.graph_computation as ppgc\n",
    "import gnn_package.src.preprocessing.graph_visualization as ppgv"
   ]
  },
  {
   "cell_type": "code",
   "execution_count": null,
   "metadata": {},
   "outputs": [],
   "source": [
    "# ppgu.get_sensor_name_id_map()"
   ]
  },
  {
   "cell_type": "code",
   "execution_count": null,
   "metadata": {},
   "outputs": [],
   "source": [
    "public_sensors_gdf = ppgu.read_or_create_public_sensors_nodes()\n",
    "private_sensors_gdf = ppgu.read_or_create_private_sensor_nodes()\n",
    "\n",
    "# Get the bounding box\n",
    "bbox_transformed = ppgu.get_bbox_transformed()\n",
    "public_sensors_clipped_gdf = public_sensors_gdf.clip(bbox_transformed)\n",
    "private_sensors_clipped_gdf = private_sensors_gdf.clip(bbox_transformed)\n",
    "\n",
    "# Combine the public and private sensors whilst keeping the index values of both\n",
    "sensor_nodes_gdf = pd.concat(\n",
    "    [public_sensors_clipped_gdf, private_sensors_clipped_gdf], axis=0\n",
    ")\n",
    "bbox_gdf = ppgu.get_bbox_transformed()"
   ]
  },
  {
   "cell_type": "code",
   "execution_count": null,
   "metadata": {},
   "outputs": [],
   "source": [
    "sensor_nodes_gdf"
   ]
  },
  {
   "cell_type": "code",
   "execution_count": null,
   "metadata": {},
   "outputs": [],
   "source": [
    "public_sensors_gdf"
   ]
  },
  {
   "cell_type": "code",
   "execution_count": null,
   "metadata": {},
   "outputs": [],
   "source": [
    "public_sensors_clipped_gdf"
   ]
  },
  {
   "cell_type": "code",
   "execution_count": null,
   "metadata": {},
   "outputs": [],
   "source": [
    "# Example usage\n",
    "place_name = \"Newcastle upon Tyne, UK\"  # Replace with your area of interest\n",
    "\n",
    "# Get the network\n",
    "network_gdf = ppgu.get_street_network_gdfs(place_name)\n",
    "clipped_network_gdf = gpd.clip(network_gdf, bbox_gdf)"
   ]
  },
  {
   "cell_type": "code",
   "execution_count": null,
   "metadata": {},
   "outputs": [],
   "source": [
    "# visualize_network_components(clipped_network_gdf) # currently not working"
   ]
  },
  {
   "cell_type": "code",
   "execution_count": null,
   "metadata": {},
   "outputs": [],
   "source": [
    "snapped_sensor_nodes_gdf = ppgm.snap_points_to_network(\n",
    "    sensor_nodes_gdf, clipped_network_gdf\n",
    ")"
   ]
  },
  {
   "cell_type": "code",
   "execution_count": null,
   "metadata": {},
   "outputs": [],
   "source": [
    "clipped_network_gdf = ppgm.explode_multilinestrings(clipped_network_gdf)\n",
    "\n",
    "connected_network_gdf = ppgm.connect_components(clipped_network_gdf)"
   ]
  },
  {
   "cell_type": "code",
   "execution_count": null,
   "metadata": {},
   "outputs": [],
   "source": [
    "# Plot the gdfs\n",
    "fig, ax = plt.subplots(figsize=(10, 10))\n",
    "connected_network_gdf.plot(ax=ax, color=\"black\", alpha=0.5)\n",
    "snapped_sensor_nodes_gdf.plot(ax=ax, color=\"red\", alpha=0.5)"
   ]
  },
  {
   "cell_type": "code",
   "execution_count": null,
   "metadata": {},
   "outputs": [],
   "source": [
    "ppga.validate_snapped_points(snapped_sensor_nodes_gdf, connected_network_gdf)"
   ]
  },
  {
   "cell_type": "code",
   "execution_count": null,
   "metadata": {},
   "outputs": [],
   "source": [
    "# compute shortest paths\n",
    "shortest_paths_gdf = ppgc.compute_shortest_paths(\n",
    "    connected_network_gdf, snapped_sensor_nodes_gdf\n",
    ")"
   ]
  },
  {
   "cell_type": "code",
   "execution_count": null,
   "metadata": {},
   "outputs": [],
   "source": [
    "# Plot the gdfs\n",
    "fig, ax = plt.subplots(figsize=(10, 10))\n",
    "connected_network_gdf.plot(ax=ax, color=\"black\", alpha=0.5)\n",
    "snapped_sensor_nodes_gdf.plot(ax=ax, color=\"red\", alpha=0.5)\n",
    "shortest_paths_gdf.plot(ax=ax, color=\"orange\", alpha=0.5)"
   ]
  },
  {
   "cell_type": "code",
   "execution_count": null,
   "metadata": {},
   "outputs": [],
   "source": [
    "G = ppgc.create_weighted_graph_from_paths(shortest_paths_gdf)"
   ]
  },
  {
   "cell_type": "code",
   "execution_count": null,
   "metadata": {},
   "outputs": [],
   "source": [
    "ppgv.visualize_sensor_graph(G, snapped_sensor_nodes_gdf)"
   ]
  },
  {
   "cell_type": "code",
   "execution_count": null,
   "metadata": {},
   "outputs": [],
   "source": [
    "adj_matrix_dense, node_ids = ppgu.graph_to_adjacency_matrix_and_nodes(G)\n",
    "\n",
    "# # Get a sorted list of node IDs to ensure consistent ordering\n",
    "# node_ids = sorted(list(G.nodes()))\n",
    "\n",
    "# # Create the adjacency matrix using NetworkX's built-in function\n",
    "# adj_matrix = nx.adjacency_matrix(G, nodelist=node_ids, weight=\"weight\")\n",
    "\n",
    "# # Convert to dense numpy array for easier viewing\n",
    "# adj_matrix_dense = adj_matrix.todense()\n",
    "\n",
    "# # Create a DataFrame for better visualization\n",
    "# adj_df = pd.DataFrame(adj_matrix_dense, index=node_ids, columns=node_ids)\n",
    "\n",
    "# print(\"\\nFirst few rows and columns of adjacency matrix:\")\n",
    "# print(adj_df.iloc[:5, :5])\n",
    "\n",
    "print(\"Shape of adjacency matrix:\", adj_matrix_dense.shape)\n",
    "# Basic statistics\n",
    "non_zero_weights = adj_matrix_dense[adj_matrix_dense > 0]\n",
    "print(\"\\nDistance statistics:\")\n",
    "print(f\"Minimum distance: {np.min(non_zero_weights):.2f} meters\")\n",
    "print(f\"Maximum distance: {np.max(non_zero_weights):.2f} meters\")\n",
    "print(f\"Average distance: {np.mean(non_zero_weights):.2f} meters\")"
   ]
  },
  {
   "cell_type": "code",
   "execution_count": null,
   "metadata": {},
   "outputs": [],
   "source": [
    "# Create the heatmap figure\n",
    "fig = go.Figure(\n",
    "    data=go.Heatmap(\n",
    "        z=adj_matrix_dense,\n",
    "        x=node_ids,\n",
    "        y=node_ids,\n",
    "        colorscale=\"YlOrRd\",\n",
    "        colorbar=dict(title=\"Distance (meters)\", thickness=15, x=1.1),\n",
    "        hoverongaps=False,\n",
    "        hovertemplate=\"From Node: %{y}<br>\"\n",
    "        + \"To Node: %{x}<br>\"\n",
    "        + \"Distance: %{z:.2f} meters<br>\"\n",
    "        + \"<extra></extra>\",  # This removes the secondary box in the hover\n",
    "    )\n",
    ")\n",
    "\n",
    "# Update the layout\n",
    "fig.update_layout(\n",
    "    title=\"Sensor Network Adjacency Matrix\",\n",
    "    width=800,\n",
    "    height=600,\n",
    "    xaxis=dict(\n",
    "        title=\"To Node\",\n",
    "        side=\"bottom\",\n",
    "        scaleanchor=\"y\",\n",
    "        scaleratio=1,\n",
    "    ),\n",
    "    yaxis=dict(\n",
    "        title=\"From Node\", autorange=\"reversed\"  # This puts (0,0) at the top-left\n",
    "    ),\n",
    "    margin=dict(l=60, r=100, b=60, t=40, pad=4),\n",
    ")\n",
    "\n",
    "# Show the plot\n",
    "fig.show()"
   ]
  },
  {
   "cell_type": "code",
   "execution_count": null,
   "metadata": {},
   "outputs": [],
   "source": [
    "ppgu.save_graph_data(adj_matrix_dense, node_ids, prefix=\"publ_priv_test\")"
   ]
  },
  {
   "cell_type": "code",
   "execution_count": null,
   "metadata": {},
   "outputs": [],
   "source": []
  }
 ],
 "metadata": {
  "kernelspec": {
   "display_name": ".venv",
   "language": "python",
   "name": "python3"
  },
  "language_info": {
   "codemirror_mode": {
    "name": "ipython",
    "version": 3
   },
   "file_extension": ".py",
   "mimetype": "text/x-python",
   "name": "python",
   "nbconvert_exporter": "python",
   "pygments_lexer": "ipython3",
   "version": "3.11.9"
  }
 },
 "nbformat": 4,
 "nbformat_minor": 2
}
