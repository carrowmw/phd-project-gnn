{
 "cells": [
  {
   "cell_type": "code",
   "execution_count": null,
   "metadata": {},
   "outputs": [],
   "source": [
    "import os\n",
    "import pickle\n",
    "from datetime import datetime, timedelta\n",
    "import pandas as pd\n",
    "from gnn_package import training, preprocessing\n",
    "from private_uoapi import (\n",
    "    LightsailWrapper,\n",
    "    LSAuth,\n",
    "    LSConfig,\n",
    "    DateRangeParams,\n",
    "    convert_to_dataframe,\n",
    ")\n",
    "from gnn_package import paths"
   ]
  },
  {
   "cell_type": "code",
   "execution_count": null,
   "metadata": {},
   "outputs": [],
   "source": [
    "raw_file_name = \"test_data_1mnth.pkl\"\n",
    "raw_dir = paths.RAW_TIMESERIES_DIR\n",
    "raw_file_path = os.path.join(raw_dir, raw_file_name)\n",
    "print(\"Currently loading data from: \", raw_file_name)\n",
    "\n",
    "preprocessed_file_name = \"data_loaders_test_1yr.pkl\"\n",
    "preprocessed_dir = paths.PREPROCESSED_TIMESERIES_DIR\n",
    "preprocessed_file_path = os.path.join(preprocessed_dir, preprocessed_file_name)\n",
    "print(\"Currently saving data to: \", preprocessed_file_name)"
   ]
  },
  {
   "cell_type": "code",
   "execution_count": null,
   "metadata": {},
   "outputs": [],
   "source": [
    "data_loaders = training.preprocess_data(\n",
    "    data_file=raw_file_path,\n",
    "    graph_prefix=\"25022025_test\",\n",
    "    window_size=24,  # 24 time steps as input\n",
    "    horizon=6,  # Predict 6 steps ahead (1.5 hours with 15-min data)\n",
    "    batch_size=32,\n",
    "    standardize=True,\n",
    ")\n",
    "\n",
    "# get processed data\n",
    "if os.path.exists(preprocessed_file_path):\n",
    "    with open(preprocessed_file_path, \"rb\") as f:\n",
    "        data_loaders = pickle.load(f)\n",
    "\n",
    "else:\n",
    "    with open(preprocessed_file_path, \"wb\") as f:\n",
    "        pickle.dump(data_loaders, f)"
   ]
  },
  {
   "cell_type": "code",
   "execution_count": null,
   "metadata": {},
   "outputs": [],
   "source": [
    "data_loaders.keys()"
   ]
  },
  {
   "cell_type": "code",
   "execution_count": null,
   "metadata": {},
   "outputs": [],
   "source": [
    "data_loaders[\"train_loader\"]"
   ]
  },
  {
   "cell_type": "code",
   "execution_count": null,
   "metadata": {},
   "outputs": [],
   "source": [
    "# Train the model\n",
    "results = training.train_model(\n",
    "    data_loaders=data_loaders,\n",
    "    input_dim=1,  # Traffic count is a single value\n",
    "    hidden_dim=64,  # Size of hidden layers\n",
    "    num_epochs=20,\n",
    "    patience=3,  # Early stopping after 10 epochs with no improvement\n",
    ")\n",
    "\n",
    "# Save the trained model\n",
    "from torch import save\n",
    "\n",
    "save(results[\"model\"].state_dict(), \"stgnn_model.pth\")"
   ]
  },
  {
   "cell_type": "code",
   "execution_count": null,
   "metadata": {},
   "outputs": [],
   "source": []
  }
 ],
 "metadata": {
  "kernelspec": {
   "display_name": ".venv",
   "language": "python",
   "name": "python3"
  },
  "language_info": {
   "codemirror_mode": {
    "name": "ipython",
    "version": 3
   },
   "file_extension": ".py",
   "mimetype": "text/x-python",
   "name": "python",
   "nbconvert_exporter": "python",
   "pygments_lexer": "ipython3",
   "version": "3.11.9"
  }
 },
 "nbformat": 4,
 "nbformat_minor": 2
}
