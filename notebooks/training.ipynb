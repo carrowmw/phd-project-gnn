{
 "cells": [
  {
   "cell_type": "code",
   "execution_count": null,
   "metadata": {},
   "outputs": [],
   "source": [
    "import os\n",
    "import pickle\n",
    "from datetime import datetime, timedelta\n",
    "import pandas as pd\n",
    "from gnn_package import training, preprocessing\n",
    "from private_uoapi import (\n",
    "    LightsailWrapper,\n",
    "    LSAuth,\n",
    "    LSConfig,\n",
    "    DateRangeParams,\n",
    "    convert_to_dataframe,\n",
    ")\n",
    "from gnn_package import paths\n",
    "from gnn_package.config import get_config"
   ]
  },
  {
   "cell_type": "code",
   "execution_count": null,
   "metadata": {},
   "outputs": [],
   "source": [
    "raw_file_name = \"test_data_1wk.pkl\"\n",
    "raw_dir = paths.RAW_TIMESERIES_DIR\n",
    "raw_file_path = os.path.join(raw_dir, raw_file_name)\n",
    "print(\"Currently loading data from: \", raw_file_name)\n",
    "\n",
    "preprocessed_file_name = \"data_loaders_test_1wk.pkl\"\n",
    "preprocessed_dir = paths.PREPROCESSED_TIMESERIES_DIR\n",
    "preprocessed_file_path = os.path.join(preprocessed_dir, preprocessed_file_name)\n",
    "print(\"Currently saving data to: \", preprocessed_file_name)"
   ]
  },
  {
   "cell_type": "code",
   "execution_count": null,
   "metadata": {},
   "outputs": [],
   "source": [
    "config_path = (\n",
    "    \"/Users/administrator/Code/python/phd-project-gnn/gnn_package/config/config.yml\"\n",
    ")\n",
    "config = get_config(config_path)\n",
    "\n",
    "data_loaders = training.preprocess_data(\n",
    "    data_file=raw_file_path,\n",
    "    config=config,\n",
    ")\n",
    "\n",
    "# get processed data\n",
    "if os.path.exists(preprocessed_file_path):\n",
    "    with open(preprocessed_file_path, \"rb\") as f:\n",
    "        data_loaders = pickle.load(f)\n",
    "\n",
    "else:\n",
    "    with open(preprocessed_file_path, \"wb\") as f:\n",
    "        pickle.dump(data_loaders, f)"
   ]
  },
  {
   "cell_type": "code",
   "execution_count": null,
   "metadata": {},
   "outputs": [],
   "source": [
    "data_loaders.keys()"
   ]
  },
  {
   "cell_type": "code",
   "execution_count": null,
   "metadata": {},
   "outputs": [],
   "source": [
    "data_loaders[\"train_loader\"]"
   ]
  },
  {
   "cell_type": "code",
   "execution_count": null,
   "metadata": {},
   "outputs": [],
   "source": [
    "# Train the model\n",
    "results = training.train_model(\n",
    "    data_loaders=data_loaders,\n",
    ")"
   ]
  },
  {
   "cell_type": "code",
   "execution_count": null,
   "metadata": {},
   "outputs": [],
   "source": [
    "# Save the trained model\n",
    "from torch import save\n",
    "\n",
    "save(results[\"model\"].state_dict(), f\"stgnn_model_{raw_file_name.split('.')[0]}.pth\")"
   ]
  },
  {
   "cell_type": "code",
   "execution_count": null,
   "metadata": {},
   "outputs": [],
   "source": []
  }
 ],
 "metadata": {
  "kernelspec": {
   "display_name": ".venv",
   "language": "python",
   "name": "python3"
  },
  "language_info": {
   "codemirror_mode": {
    "name": "ipython",
    "version": 3
   },
   "file_extension": ".py",
   "mimetype": "text/x-python",
   "name": "python",
   "nbconvert_exporter": "python",
   "pygments_lexer": "ipython3",
   "version": "3.11.9"
  }
 },
 "nbformat": 4,
 "nbformat_minor": 2
}
