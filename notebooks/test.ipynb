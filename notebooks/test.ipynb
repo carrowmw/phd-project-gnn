{
 "cells": [
  {
   "cell_type": "code",
   "execution_count": null,
   "metadata": {},
   "outputs": [],
   "source": [
    "# Add this to your notebook after importing dependencies\n",
    "import private_uoapi\n",
    "import logging\n",
    "\n",
    "from gnn_package import preprocessing\n",
    "\n",
    "adj_matrix_dense, node_ids, metadata = preprocessing.load_graph_data(\n",
    "    prefix=\"test\", return_df=False\n",
    ")\n",
    "name_id_map = preprocessing.get_sensor_name_id_map()\n",
    "\n",
    "# Set up logging\n",
    "logging.basicConfig(level=logging.DEBUG)\n",
    "logger = logging.getLogger(__name__)\n",
    "\n",
    "# Test private API connection\n",
    "try:\n",
    "    private_config = private_uoapi.APIConfig()\n",
    "    private_auth = private_uoapi.APIAuth(private_config)\n",
    "    client = private_uoapi.APIClient(private_config, private_auth)\n",
    "    \n",
    "    # Get first private node ID from your node_ids\n",
    "    private_nodes = [node_id for node_id in node_ids if node_id.startswith('1')]\n",
    "    if private_nodes:\n",
    "        test_node = private_nodes[0]\n",
    "        sensor_name = name_id_map[test_node]\n",
    "        \n",
    "        logger.debug(f\"Testing private API with sensor: {sensor_name}\")\n",
    "        response = client.get_historical_traffic_counts(locations=sensor_name, days_back=7)\n",
    "        \n",
    "        logger.debug(f\"Response keys: {response.keys() if response else 'No response'}\")\n",
    "        logger.debug(f\"Response content: {response}\")\n",
    "except Exception as e:\n",
    "    logger.error(f\"Error testing private API: {str(e)}\")"
   ]
  },
  {
   "cell_type": "code",
   "execution_count": null,
   "metadata": {},
   "outputs": [],
   "source": [
    "node_ids"
   ]
  },
  {
   "cell_type": "code",
   "execution_count": null,
   "metadata": {},
   "outputs": [],
   "source": []
  }
 ],
 "metadata": {
  "kernelspec": {
   "display_name": ".venv",
   "language": "python",
   "name": "python3"
  },
  "language_info": {
   "codemirror_mode": {
    "name": "ipython",
    "version": 3
   },
   "file_extension": ".py",
   "mimetype": "text/x-python",
   "name": "python",
   "nbconvert_exporter": "python",
   "pygments_lexer": "ipython3",
   "version": "3.11.9"
  }
 },
 "nbformat": 4,
 "nbformat_minor": 2
}
